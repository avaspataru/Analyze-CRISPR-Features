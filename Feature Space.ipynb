{
 "cells": [
  {
   "cell_type": "code",
   "execution_count": 1,
   "metadata": {},
   "outputs": [],
   "source": [
    "import matplotlib.pyplot as plt\n",
    "import pandas as pd\n",
    "import numpy as np"
   ]
  },
  {
   "cell_type": "code",
   "execution_count": 2,
   "metadata": {},
   "outputs": [],
   "source": [
    "feature_categories = ['Positional Nucleotides Seed', 'Positional Dinucleotides Seed', \n",
    "                      'Positional Nucleotides Left Flank', 'Positional Dinucleotides Left Flank',\n",
    "                      'Positional Nucleotides Right Flank', 'Positional Dinucleotides Right Flank',\n",
    "                      'Positional Nucleotides PAM',\n",
    "                      'GC Content', \n",
    "                      'Nucleotide Counts Seed',\n",
    "                      'Dinucleotide Counts Seed',\n",
    "                      'Other Biological Features'\n",
    "                     ]"
   ]
  },
  {
   "cell_type": "markdown",
   "metadata": {},
   "source": [
    "# Add the features"
   ]
  },
  {
   "cell_type": "code",
   "execution_count": 3,
   "metadata": {},
   "outputs": [],
   "source": [
    "feature_scores = dict.fromkeys(feature_categories, 0)\n",
    "features_list = []"
   ]
  },
  {
   "cell_type": "code",
   "execution_count": 4,
   "metadata": {},
   "outputs": [],
   "source": [
    "def increment_score(category, by):\n",
    "    feature_scores[category] = feature_scores[category] + by"
   ]
  },
  {
   "cell_type": "code",
   "execution_count": 5,
   "metadata": {},
   "outputs": [],
   "source": [
    "def append_feat(categories, by):\n",
    "    for f in categories: \n",
    "        for i in range(by):\n",
    "            features_list.append(f)"
   ]
  },
  {
   "cell_type": "markdown",
   "metadata": {},
   "source": [
    "## sgRNA Scorer "
   ]
  },
  {
   "cell_type": "code",
   "execution_count": 6,
   "metadata": {},
   "outputs": [],
   "source": [
    "increment_score('Positional Nucleotides Seed',1)\n",
    "\n",
    "append_feat(['Positional Nucleotides Seed'],1)"
   ]
  },
  {
   "cell_type": "markdown",
   "metadata": {},
   "source": [
    "## SSC"
   ]
  },
  {
   "cell_type": "code",
   "execution_count": 7,
   "metadata": {},
   "outputs": [],
   "source": [
    "increment_score('Positional Nucleotides Seed',1)\n",
    "\n",
    "append_feat(['Positional Nucleotides Seed'],1)"
   ]
  },
  {
   "cell_type": "markdown",
   "metadata": {},
   "source": [
    "## Tuscan Classification and Regression"
   ]
  },
  {
   "cell_type": "code",
   "execution_count": 8,
   "metadata": {},
   "outputs": [],
   "source": [
    "increment_score('Nucleotide Counts Seed',2)\n",
    "increment_score('Dinucleotide Counts Seed',2)\n",
    "increment_score('Positional Nucleotides Seed',2)\n",
    "increment_score('Positional Dinucleotides Seed',2)\n",
    "\n",
    "increment_score('Positional Nucleotides Left Flank',2)\n",
    "increment_score('Positional Dinucleotides Left Flank',2)\n",
    "increment_score('Positional Nucleotides Right Flank',2)\n",
    "increment_score('Positional Dinucleotides Right Flank',2)\n",
    "increment_score('Positional Nucleotides PAM',2)\n",
    "\n",
    "increment_score('GC Content',2)\n",
    "\n",
    "append_feat(['Nucleotide Counts Seed','Dinucleotide Counts Seed','Positional Nucleotides Seed','Positional Dinucleotides Seed',\n",
    "            'Positional Nucleotides Left Flank','Positional Dinucleotides Left Flank','Positional Nucleotides Right Flank','Positional Dinucleotides Right Flank',\n",
    "            'Positional Nucleotides PAM', 'GC Content'],2)"
   ]
  },
  {
   "cell_type": "markdown",
   "metadata": {},
   "source": [
    "## Wu-CRISPR"
   ]
  },
  {
   "cell_type": "code",
   "execution_count": 9,
   "metadata": {},
   "outputs": [],
   "source": [
    "increment_score('Positional Nucleotides Seed',1)\n",
    "increment_score('Positional Dinucleotides Seed',1)\n",
    "increment_score('GC Content',1)\n",
    "increment_score('Nucleotide Counts Seed',1)\n",
    "increment_score('Dinucleotide Counts Seed',1)\n",
    "increment_score('Positional Nucleotides PAM',1)\n",
    "increment_score('Positional Nucleotides Right Flank',1)\n",
    "increment_score('Positional Dinucleotides Right Flank',1)\n",
    "increment_score('Other Biological Features',1)\n",
    "\n",
    "append_feat(['Positional Nucleotides Seed', 'Positional Dinucleotides Seed','GC Content','Nucleotide Counts Seed','Dinucleotide Counts Seed',\n",
    "             'Positional Nucleotides PAM', 'Other Biological Features', 'Positional Nucleotides Right Flank', 'Positional Dinucleotides Right Flank' ],1)"
   ]
  },
  {
   "cell_type": "markdown",
   "metadata": {},
   "source": [
    "## CHOP CHOP "
   ]
  },
  {
   "cell_type": "markdown",
   "metadata": {},
   "source": [
    "### XU 2015"
   ]
  },
  {
   "cell_type": "code",
   "execution_count": 10,
   "metadata": {},
   "outputs": [],
   "source": [
    "increment_score('Positional Nucleotides Seed',1)\n",
    "increment_score('Positional Nucleotides PAM',1)\n",
    "\n",
    "append_feat(['Positional Nucleotides Seed','Positional Nucleotides PAM'],1)"
   ]
  },
  {
   "cell_type": "markdown",
   "metadata": {},
   "source": [
    "### DOENCH 2014"
   ]
  },
  {
   "cell_type": "code",
   "execution_count": 11,
   "metadata": {},
   "outputs": [],
   "source": [
    "increment_score('Positional Nucleotides Seed',1)\n",
    "increment_score('Positional Nucleotides PAM',1)\n",
    "increment_score('Positional Dinucleotides Seed',1)\n",
    "increment_score('GC Content',1)\n",
    "\n",
    "append_feat(['Positional Nucleotides Seed','Positional Nucleotides PAM','Positional Dinucleotides Seed','GC Content'],1)"
   ]
  },
  {
   "cell_type": "markdown",
   "metadata": {},
   "source": [
    "### Moreno Mateos 2015"
   ]
  },
  {
   "cell_type": "code",
   "execution_count": 12,
   "metadata": {},
   "outputs": [],
   "source": [
    "increment_score('Positional Nucleotides Seed',1)\n",
    "increment_score('Positional Dinucleotides Seed',1)\n",
    "increment_score('Positional Nucleotides PAM',1)"
   ]
  },
  {
   "cell_type": "markdown",
   "metadata": {},
   "source": [
    "# PLOT"
   ]
  },
  {
   "cell_type": "code",
   "execution_count": 13,
   "metadata": {},
   "outputs": [
    {
     "data": {
      "text/plain": [
       "['Positional Nucleotides Seed',\n",
       " 'Positional Nucleotides Seed',\n",
       " 'Nucleotide Counts Seed',\n",
       " 'Nucleotide Counts Seed',\n",
       " 'Dinucleotide Counts Seed',\n",
       " 'Dinucleotide Counts Seed',\n",
       " 'Positional Nucleotides Seed',\n",
       " 'Positional Nucleotides Seed',\n",
       " 'Positional Dinucleotides Seed',\n",
       " 'Positional Dinucleotides Seed',\n",
       " 'Positional Nucleotides Left Flank',\n",
       " 'Positional Nucleotides Left Flank',\n",
       " 'Positional Dinucleotides Left Flank',\n",
       " 'Positional Dinucleotides Left Flank',\n",
       " 'Positional Nucleotides Right Flank',\n",
       " 'Positional Nucleotides Right Flank',\n",
       " 'Positional Dinucleotides Right Flank',\n",
       " 'Positional Dinucleotides Right Flank',\n",
       " 'Positional Nucleotides PAM',\n",
       " 'Positional Nucleotides PAM',\n",
       " 'GC Content',\n",
       " 'GC Content',\n",
       " 'Positional Nucleotides Seed',\n",
       " 'Positional Dinucleotides Seed',\n",
       " 'GC Content',\n",
       " 'Nucleotide Counts Seed',\n",
       " 'Dinucleotide Counts Seed',\n",
       " 'Positional Nucleotides PAM',\n",
       " 'Other Biological Features',\n",
       " 'Positional Nucleotides Right Flank',\n",
       " 'Positional Dinucleotides Right Flank',\n",
       " 'Positional Nucleotides Seed',\n",
       " 'Positional Nucleotides PAM',\n",
       " 'Positional Nucleotides Seed',\n",
       " 'Positional Nucleotides PAM',\n",
       " 'Positional Dinucleotides Seed',\n",
       " 'GC Content']"
      ]
     },
     "execution_count": 13,
     "metadata": {},
     "output_type": "execute_result"
    }
   ],
   "source": [
    "features_list"
   ]
  },
  {
   "cell_type": "code",
   "execution_count": 14,
   "metadata": {},
   "outputs": [
    {
     "data": {
      "text/plain": [
       "['Positional Nucleotides Seed',\n",
       " 'Positional Nucleotides Seed',\n",
       " 'Positional Nucleotides Seed',\n",
       " 'Positional Nucleotides Seed',\n",
       " 'Positional Nucleotides Seed',\n",
       " 'Positional Nucleotides Seed',\n",
       " 'Positional Nucleotides Seed',\n",
       " 'Positional Nucleotides PAM',\n",
       " 'Positional Nucleotides PAM',\n",
       " 'Positional Nucleotides PAM',\n",
       " 'Positional Nucleotides PAM',\n",
       " 'Positional Nucleotides PAM',\n",
       " 'Positional Dinucleotides Seed',\n",
       " 'Positional Dinucleotides Seed',\n",
       " 'Positional Dinucleotides Seed',\n",
       " 'Positional Dinucleotides Seed',\n",
       " 'GC Content',\n",
       " 'GC Content',\n",
       " 'GC Content',\n",
       " 'GC Content',\n",
       " 'Positional Dinucleotides Right Flank',\n",
       " 'Positional Nucleotides Right Flank',\n",
       " 'Dinucleotide Counts Seed',\n",
       " 'Nucleotide Counts Seed',\n",
       " 'Positional Dinucleotides Right Flank',\n",
       " 'Positional Dinucleotides Right Flank',\n",
       " 'Positional Nucleotides Right Flank',\n",
       " 'Positional Nucleotides Right Flank',\n",
       " 'Dinucleotide Counts Seed',\n",
       " 'Dinucleotide Counts Seed',\n",
       " 'Nucleotide Counts Seed',\n",
       " 'Nucleotide Counts Seed',\n",
       " 'Positional Dinucleotides Left Flank',\n",
       " 'Positional Dinucleotides Left Flank',\n",
       " 'Positional Nucleotides Left Flank',\n",
       " 'Positional Nucleotides Left Flank',\n",
       " 'Other Biological Features']"
      ]
     },
     "execution_count": 14,
     "metadata": {},
     "output_type": "execute_result"
    }
   ],
   "source": [
    "features_list = list(reversed(sorted(features_list, key=lambda e:feature_scores[e])))\n",
    "features_list"
   ]
  },
  {
   "cell_type": "code",
   "execution_count": 15,
   "metadata": {},
   "outputs": [],
   "source": [
    "# must keep order\n",
    "features_ordered = []\n",
    "for f in features_list:\n",
    "    if f not in features_ordered:\n",
    "        features_ordered.append(f)"
   ]
  },
  {
   "cell_type": "code",
   "execution_count": null,
   "metadata": {},
   "outputs": [],
   "source": []
  },
  {
   "cell_type": "code",
   "execution_count": 16,
   "metadata": {
    "scrolled": true
   },
   "outputs": [
    {
     "data": {
      "image/png": "[encoded data removed]",
      "text/plain": [
       "<Figure size 432x288 with 1 Axes>"
      ]
     },
     "metadata": {
      "needs_background": "light"
     },
     "output_type": "display_data"
    }
   ],
   "source": [
    "plt.hist(features_list,  ec='white', bins=np.arange(12) - 0.5, orientation='horizontal')\n",
    "\n",
    "plt.savefig('histogram.png',bbox_inches='tight')\n"
   ]
  },
  {
   "cell_type": "code",
   "execution_count": 17,
   "metadata": {},
   "outputs": [],
   "source": [
    "features_ordered = features_ordered[::-1]"
   ]
  },
  {
   "cell_type": "code",
   "execution_count": 18,
   "metadata": {},
   "outputs": [],
   "source": [
    "counts = []\n",
    "for f in features_ordered:\n",
    "    counts.append( feature_scores[f])"
   ]
  },
  {
   "cell_type": "code",
   "execution_count": 19,
   "metadata": {},
   "outputs": [
    {
     "data": {
      "text/plain": [
       "[1, 2, 2, 3, 3, 3, 3, 4, 5, 6, 8]"
      ]
     },
     "execution_count": 19,
     "metadata": {},
     "output_type": "execute_result"
    }
   ],
   "source": [
    "counts"
   ]
  },
  {
   "cell_type": "code",
   "execution_count": 20,
   "metadata": {},
   "outputs": [
    {
     "data": {
      "image/png": "[encoded data removed]",
      "text/plain": [
       "<Figure size 432x288 with 1 Axes>"
      ]
     },
     "metadata": {
      "needs_background": "light"
     },
     "output_type": "display_data"
    }
   ],
   "source": [
    "plt.barh(range(0,len(features_ordered)), counts, tick_label=features_ordered)\n",
    "plt.xlabel('Number of models')\n",
    "plt.savefig('./plots/histogram-hor.png',bbox_inches='tight')\n"
   ]
  },
  {
   "cell_type": "code",
   "execution_count": null,
   "metadata": {},
   "outputs": [],
   "source": []
  }
 ],
 "metadata": {
  "kernelspec": {
   "display_name": "Python 3",
   "language": "python",
   "name": "python3"
  },
  "language_info": {
   "codemirror_mode": {
    "name": "ipython",
    "version": 3
   },
   "file_extension": ".py",
   "mimetype": "text/x-python",
   "name": "python",
   "nbconvert_exporter": "python",
   "pygments_lexer": "ipython3",
   "version": "3.7.8"
  }
 },
 "nbformat": 4,
 "nbformat_minor": 4
}
