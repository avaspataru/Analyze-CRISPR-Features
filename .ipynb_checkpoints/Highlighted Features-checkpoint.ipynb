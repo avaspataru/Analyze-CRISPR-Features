{
 "cells": [
  {
   "cell_type": "markdown",
   "metadata": {},
   "source": [
    "# Setting up"
   ]
  },
  {
   "cell_type": "code",
   "execution_count": 124,
   "metadata": {},
   "outputs": [],
   "source": [
    "import pickle \n",
    "import matplotlib.pyplot as plt \n",
    "import pandas as pd\n",
    "import numpy as np\n",
    "import re\n",
    "import seaborn as sns"
   ]
  },
  {
   "cell_type": "code",
   "execution_count": 125,
   "metadata": {},
   "outputs": [],
   "source": [
    "# tools which use the dinucleotide positional features \n",
    "tools_of_interest = ['ssc' ,'sgrnascorer2','tuscan-classification' ,'tuscan-regression','chop-chop-doench','chop-chop-xu', 'wu-crispr', 'deep-crispr']\n",
    "dataset_name = 'xu'\n",
    "\n",
    "# features of interest (to be highlighted)\n",
    "features_of_interest = ['19:G', '19:C', '19:T', '17:C', '18:T', '17:T', '15:C', '13:T', '11:A', '2:G']"
   ]
  },
  {
   "cell_type": "markdown",
   "metadata": {},
   "source": [
    "## Helpers to determine sequential features"
   ]
  },
  {
   "cell_type": "code",
   "execution_count": 126,
   "metadata": {},
   "outputs": [],
   "source": [
    "# from a list of features, return those which are sequential features \n",
    "def getSequentials(feature_names):\n",
    "    sequentials = []\n",
    "    for f in feature_names: \n",
    "        if isSequential(f):\n",
    "            sequentials.append(f)\n",
    "    return sequentials"
   ]
  },
  {
   "cell_type": "code",
   "execution_count": 127,
   "metadata": {},
   "outputs": [],
   "source": [
    "# given a feature name, matches the content and returns the match (None if not sequential feature)\n",
    "def isSequential(feature_name):\n",
    "    \n",
    "    # NP or N:P\n",
    "    m = re.match(r\"^(?P<nuc>[ACGT])(:)?(?P<pos>([0-9])*)$\", feature_name)\n",
    "    \n",
    "    if m == None: # try PN or P:N \n",
    "        m = re.match(r\"^(?P<pos>([0-9])*)(:)?(?P<nuc>[ACGT])$\", feature_name)\n",
    "                     \n",
    "    if m == None: # try c1_P:N_sd\n",
    "        m = re.match(r\"^c1_(?P<pos>([0-9])*)(:)?(?P<nuc>[ACGT])_sd$\", feature_name)\n",
    "    \n",
    "    return m"
   ]
  },
  {
   "cell_type": "code",
   "execution_count": 128,
   "metadata": {},
   "outputs": [],
   "source": [
    "def getAllVersions(feature_name):\n",
    "    match = isSequential(feature_name) \n",
    "    \n",
    "    options = []\n",
    "    options.append( match['pos'] + \":\" + match['nuc'] ) \n",
    "    options.append( match['pos'] + match['nuc'] )\n",
    "    options.append( match['nuc'] + \":\" + match['pos'] )\n",
    "    options.append( match['nuc'] + match['pos'] )\n",
    "    options.append( \"c1_\" + match['pos'] + \":\" + match['nuc'] + \"_sd\" )\n",
    "    \n",
    "    return options\n",
    "    \n",
    "    "
   ]
  },
  {
   "cell_type": "code",
   "execution_count": 129,
   "metadata": {},
   "outputs": [
    {
     "data": {
      "text/plain": [
       "['17:C', '17C', 'C:17', 'C17', 'c1_17:C_sd']"
      ]
     },
     "execution_count": 129,
     "metadata": {},
     "output_type": "execute_result"
    }
   ],
   "source": [
    "getAllVersions(\"17:C\")"
   ]
  },
  {
   "cell_type": "code",
   "execution_count": 130,
   "metadata": {},
   "outputs": [],
   "source": [
    "def findIn(feature_name, features):\n",
    "    options = getAllVersions(feature_name)\n",
    "    \n",
    "    for o in options: \n",
    "        if o in features: \n",
    "            return o\n",
    "    return None"
   ]
  },
  {
   "cell_type": "markdown",
   "metadata": {},
   "source": [
    "## Helpers to load and scale data \n",
    "\n",
    "At the end of the loading we will have a dataframe which contains positional features only and in which all values are scaled considering the absolute value"
   ]
  },
  {
   "cell_type": "code",
   "execution_count": 131,
   "metadata": {},
   "outputs": [],
   "source": [
    "def scale_by_tool(tool_df):\n",
    "    vals = tool_df.values.flatten()\n",
    "\n",
    "    max_val = max(vals)\n",
    "    min_val = min(vals)\n",
    "    \n",
    "    # maximum by absolute value in the list (all shap values for positional dinucleotide features)\n",
    "    max_abs = abs(min_val)\n",
    "    if abs(max_val) > abs(min_val):\n",
    "        max_abs = abs(max_val) \n",
    "        \n",
    "    # divide by the max_abs in the list\n",
    "   \n",
    "    new_tool_df = tool_df.divide(max_abs)\n",
    "    \n",
    "    return new_tool_df\n",
    "    "
   ]
  },
  {
   "cell_type": "code",
   "execution_count": 132,
   "metadata": {},
   "outputs": [],
   "source": [
    "# loads the shapValues and dataset but only keeps sequential features !!\n",
    "# !! includes scaling the values to only sequentials\n",
    "def loadPickle(tool_name):\n",
    "    # load data from pickle\n",
    "    pickleFileName = \"SHAP-\" + tool_name + \"-\" + dataset_name\n",
    "    p = open('./pickles/'+pickleFileName,\"rb\")\n",
    "    shapValues = pickle.load(p)\n",
    "    dataset = pickle.load(p)\n",
    "    p.close()\n",
    "\n",
    "    shapValues = pd.DataFrame(shapValues, columns=dataset.columns)\n",
    "    \n",
    "    # keep only sequential features \n",
    "    seqFeatures = getSequentials(dataset.columns)\n",
    "    shapValues = shapValues[seqFeatures]\n",
    "    dataset = dataset[seqFeatures]\n",
    "    \n",
    "    # scale sequential values \n",
    "    shapValues = scale_by_tool(shapValues)\n",
    "    \n",
    "    return shapValues, dataset"
   ]
  },
  {
   "cell_type": "markdown",
   "metadata": {},
   "source": [
    "# Load all tools data "
   ]
  },
  {
   "cell_type": "code",
   "execution_count": 133,
   "metadata": {},
   "outputs": [],
   "source": [
    "tool_feature_to_vals = {}\n",
    "for tool in tools_of_interest: \n",
    "    sh, d = loadPickle(tool)\n",
    "    tool_feature_to_vals[tool] = {}\n",
    "    for f in features_of_interest: \n",
    "        f_name = findIn(f, sh.columns)\n",
    "        if f_name == None: \n",
    "            continue\n",
    "  \n",
    "        f_sh = sh[[f_name]]\n",
    "        f_sh = f_sh.loc[d[f_name] == 1]\n",
    "\n",
    "        # f_sh contains all the shap values for 1-valued data points of feature f \n",
    "        tool_feature_to_vals[tool][f] = f_sh.values\n",
    "        "
   ]
  },
  {
   "cell_type": "markdown",
   "metadata": {},
   "source": [
    "The tool_feature_to_vals dictionary has for each tool and important feature all the relevant shap values"
   ]
  },
  {
   "cell_type": "code",
   "execution_count": 134,
   "metadata": {},
   "outputs": [
    {
     "data": {
      "text/plain": [
       "array([[0.76976993],\n",
       "       [0.76976993],\n",
       "       [0.76976701],\n",
       "       [0.77022219],\n",
       "       [0.76976993],\n",
       "       [0.77015879],\n",
       "       [0.76976993],\n",
       "       [0.76976993],\n",
       "       [0.76978231],\n",
       "       [0.76997838],\n",
       "       [0.76976993],\n",
       "       [0.77033392],\n",
       "       [0.77006354],\n",
       "       [0.77013989],\n",
       "       [0.76976993],\n",
       "       [0.77013967],\n",
       "       [0.76976993],\n",
       "       [0.76976993],\n",
       "       [0.76976993],\n",
       "       [0.76976993],\n",
       "       [0.76976993],\n",
       "       [0.76976993],\n",
       "       [0.76976993],\n",
       "       [0.76976993],\n",
       "       [0.76976993],\n",
       "       [0.76976993],\n",
       "       [0.76976993],\n",
       "       [0.76976993],\n",
       "       [0.76976993],\n",
       "       [0.76976993],\n",
       "       [0.76836094],\n",
       "       [0.76993606],\n",
       "       [0.76976993],\n",
       "       [0.76976993],\n",
       "       [0.76976993],\n",
       "       [0.76976993],\n",
       "       [0.76976993],\n",
       "       [0.76976993],\n",
       "       [0.76976993],\n",
       "       [0.76976993],\n",
       "       [0.77004412],\n",
       "       [0.76993446],\n",
       "       [0.76976993],\n",
       "       [0.77031538],\n",
       "       [0.76976993],\n",
       "       [0.76976993],\n",
       "       [0.76976993],\n",
       "       [0.76976993],\n",
       "       [0.76976993],\n",
       "       [0.77002562],\n",
       "       [0.76976993],\n",
       "       [0.76976993],\n",
       "       [0.77004254],\n",
       "       [0.76976993],\n",
       "       [0.76976993],\n",
       "       [0.76976993],\n",
       "       [0.76976993],\n",
       "       [0.76976993],\n",
       "       [0.76976993],\n",
       "       [0.76976993],\n",
       "       [0.76976993],\n",
       "       [0.76976993],\n",
       "       [0.76976993],\n",
       "       [0.76976993],\n",
       "       [0.76976993],\n",
       "       [0.76976993],\n",
       "       [0.76976993],\n",
       "       [0.77005472],\n",
       "       [0.76976993],\n",
       "       [0.76976993],\n",
       "       [0.76976993],\n",
       "       [0.77008765],\n",
       "       [0.76976993],\n",
       "       [0.76976993],\n",
       "       [0.76976993],\n",
       "       [0.76976993],\n",
       "       [0.76976993],\n",
       "       [0.77026455],\n",
       "       [0.77020481],\n",
       "       [0.76976993],\n",
       "       [0.76976993],\n",
       "       [0.76976993],\n",
       "       [0.76976993],\n",
       "       [0.76976993],\n",
       "       [0.7702019 ],\n",
       "       [0.76976993],\n",
       "       [0.76976993],\n",
       "       [0.76976993],\n",
       "       [0.76976993],\n",
       "       [0.76976993],\n",
       "       [0.76976993],\n",
       "       [0.76976993],\n",
       "       [0.76976993],\n",
       "       [0.76976993],\n",
       "       [0.76976993],\n",
       "       [0.76976993],\n",
       "       [0.76994656],\n",
       "       [0.76976993],\n",
       "       [0.76976993],\n",
       "       [0.76976993],\n",
       "       [0.76996516],\n",
       "       [0.76976993],\n",
       "       [0.76976993],\n",
       "       [0.76991721],\n",
       "       [0.76976993],\n",
       "       [0.76976993],\n",
       "       [0.76976993],\n",
       "       [0.77009276],\n",
       "       [0.76976993],\n",
       "       [0.76976993],\n",
       "       [0.76976993],\n",
       "       [0.77018774],\n",
       "       [0.76976993],\n",
       "       [0.76976993],\n",
       "       [0.76981742],\n",
       "       [0.76976993],\n",
       "       [0.76976993],\n",
       "       [0.77007838],\n",
       "       [0.76976993],\n",
       "       [0.76999169],\n",
       "       [0.76976993],\n",
       "       [0.76976993],\n",
       "       [0.76976993],\n",
       "       [0.76976993],\n",
       "       [0.76976993],\n",
       "       [0.77026852],\n",
       "       [0.76978925],\n",
       "       [0.77004955],\n",
       "       [0.76976993],\n",
       "       [0.76976993],\n",
       "       [0.76976993],\n",
       "       [0.76976993],\n",
       "       [0.76976993],\n",
       "       [0.76976993],\n",
       "       [0.76976993],\n",
       "       [0.76976993],\n",
       "       [0.76976993],\n",
       "       [0.77013635],\n",
       "       [0.76976993],\n",
       "       [0.76976993],\n",
       "       [0.76985441],\n",
       "       [0.76976993],\n",
       "       [0.76976993],\n",
       "       [0.76976993],\n",
       "       [0.76976993],\n",
       "       [0.76976993],\n",
       "       [0.76976993],\n",
       "       [0.76976993],\n",
       "       [0.76976993],\n",
       "       [0.76976993],\n",
       "       [0.76976993],\n",
       "       [0.76976993],\n",
       "       [0.76976993],\n",
       "       [0.76596215],\n",
       "       [0.76976993],\n",
       "       [0.76976993],\n",
       "       [0.76976993],\n",
       "       [0.76976993],\n",
       "       [0.7699767 ],\n",
       "       [0.76976993],\n",
       "       [0.76976993],\n",
       "       [0.76976993],\n",
       "       [0.77015101],\n",
       "       [0.76976993],\n",
       "       [0.76976993],\n",
       "       [0.77023879],\n",
       "       [0.76976993],\n",
       "       [0.7700555 ],\n",
       "       [0.76976993],\n",
       "       [0.76976993],\n",
       "       [0.76976993],\n",
       "       [0.76976993],\n",
       "       [0.77010606],\n",
       "       [0.77000919],\n",
       "       [0.76989675],\n",
       "       [0.76976993],\n",
       "       [0.76976993],\n",
       "       [0.76976993],\n",
       "       [0.76976993],\n",
       "       [0.76976993],\n",
       "       [0.76976993],\n",
       "       [0.7702676 ],\n",
       "       [0.76998011],\n",
       "       [0.76997066],\n",
       "       [0.77015852],\n",
       "       [0.76976993],\n",
       "       [0.76976993],\n",
       "       [0.77013237],\n",
       "       [0.76976993],\n",
       "       [0.76997479],\n",
       "       [0.76976993],\n",
       "       [0.76976993],\n",
       "       [0.76976993],\n",
       "       [0.76976993],\n",
       "       [0.76976993],\n",
       "       [0.76976993],\n",
       "       [0.77008224],\n",
       "       [0.76976993],\n",
       "       [0.76976993],\n",
       "       [0.77013432],\n",
       "       [0.76976993],\n",
       "       [0.77006913],\n",
       "       [0.76976993],\n",
       "       [0.76998399],\n",
       "       [0.76976993],\n",
       "       [0.76976993],\n",
       "       [0.76976993],\n",
       "       [0.76992273],\n",
       "       [0.76976993],\n",
       "       [0.76976993],\n",
       "       [0.76976993],\n",
       "       [0.77000426],\n",
       "       [0.77035924],\n",
       "       [0.76976993],\n",
       "       [0.76986959],\n",
       "       [0.76976993],\n",
       "       [0.76976993],\n",
       "       [0.76976993],\n",
       "       [0.76976993],\n",
       "       [0.76976993],\n",
       "       [0.77012829],\n",
       "       [0.76976993],\n",
       "       [0.769966  ],\n",
       "       [0.76976993],\n",
       "       [0.76976993],\n",
       "       [0.76976993],\n",
       "       [0.77017969],\n",
       "       [0.76976993],\n",
       "       [0.76976993],\n",
       "       [0.76976993],\n",
       "       [0.77008058],\n",
       "       [0.76976993],\n",
       "       [0.76976993],\n",
       "       [0.76976993],\n",
       "       [0.76976993],\n",
       "       [0.76976993],\n",
       "       [0.77369408],\n",
       "       [0.76996412],\n",
       "       [0.76976993],\n",
       "       [0.76976993],\n",
       "       [0.76357675],\n",
       "       [0.76976993],\n",
       "       [0.76976993],\n",
       "       [0.76976993],\n",
       "       [0.76976993],\n",
       "       [0.76976993],\n",
       "       [0.76976993],\n",
       "       [0.76997806],\n",
       "       [0.76976993],\n",
       "       [0.76976993],\n",
       "       [0.76976993],\n",
       "       [0.76976993],\n",
       "       [0.76976993],\n",
       "       [0.77014461],\n",
       "       [0.76976993],\n",
       "       [0.76976993],\n",
       "       [0.76976993],\n",
       "       [0.76976993],\n",
       "       [0.76976993],\n",
       "       [0.77015367],\n",
       "       [0.77019714],\n",
       "       [0.76976993],\n",
       "       [0.76976993],\n",
       "       [0.76898378],\n",
       "       [0.76976993],\n",
       "       [0.76976993],\n",
       "       [0.76991584],\n",
       "       [0.76976993],\n",
       "       [0.76976993],\n",
       "       [0.76976993],\n",
       "       [0.76976993],\n",
       "       [0.76976993],\n",
       "       [0.76976993]])"
      ]
     },
     "execution_count": 134,
     "metadata": {},
     "output_type": "execute_result"
    }
   ],
   "source": [
    "tool_feature_to_vals['ssc']['19:G']"
   ]
  },
  {
   "cell_type": "markdown",
   "metadata": {},
   "source": [
    "# Plot "
   ]
  },
  {
   "cell_type": "code",
   "execution_count": 135,
   "metadata": {},
   "outputs": [],
   "source": [
    "def plotForFeature(feature):\n",
    "    \n",
    "    plt.plot([0] * len(tools_of_interest), color= \"grey\", linewidth=\"0.5\")\n",
    "    \n",
    "    data = []\n",
    "    datas = []\n",
    "    for i, tool in enumerate(tools_of_interest): \n",
    "        if feature not in tool_feature_to_vals[tool].keys(): \n",
    "            datas.append([0])\n",
    "            continue\n",
    "        vals = tool_feature_to_vals[tool][feature] \n",
    "        #plt.scatter([i] * len(vals), vals)\n",
    "        #plt.violinplot(vals)\n",
    "        \n",
    "        dd = []\n",
    "        for v in vals: \n",
    "            dd.append(v[0])\n",
    "        datas.append(dd)\n",
    "        \n",
    "    plt.violinplot(datas, positions=np.arange(0,len(tools_of_interest)))\n",
    "    plt.yticks(np.arange(-1,1.25,0.25))\n",
    "    plt.xticks(np.arange(0,len(tools_of_interest)), tools_of_interest, rotation='vertical')\n",
    "    plt.ylabel(\"SHAP value\")\n",
    "    plt.title(\"SHAP values for \"+ feature)"
   ]
  },
  {
   "cell_type": "code",
   "execution_count": 136,
   "metadata": {},
   "outputs": [
    {
     "data": {
      "image/png": "[encoded data removed]",
      "text/plain": [
       "<Figure size 432x288 with 1 Axes>"
      ]
     },
     "metadata": {
      "needs_background": "light"
     },
     "output_type": "display_data"
    }
   ],
   "source": [
    "plotForFeature(\"19:T\")"
   ]
  },
  {
   "cell_type": "markdown",
   "metadata": {},
   "source": [
    "## Plot with sns"
   ]
  },
  {
   "cell_type": "code",
   "execution_count": 173,
   "metadata": {},
   "outputs": [],
   "source": [
    "def plotSNSForFeature(feature):\n",
    "    \n",
    "    data = []\n",
    "    datas = []\n",
    "    rows = []\n",
    "    for i, tool in enumerate(tools_of_interest): \n",
    "        if feature not in tool_feature_to_vals[tool].keys(): \n",
    "            datas.append([0])\n",
    "            continue\n",
    "        vals = tool_feature_to_vals[tool][feature] \n",
    "        \n",
    "        dd = []\n",
    "        for v in vals: \n",
    "            dd.append(v[0])\n",
    "            rows.append( [i,v[0],tool] )\n",
    "       \n",
    "        # dd are the values for tool #i \n",
    "      \n",
    "    \n",
    "    df = pd.DataFrame(rows, columns=['tool_id','shap','tool'])\n",
    "    ax = sns.violinplot(x=df[\"tool_id\"], y=df['shap'],  data = pd.melt(df), width=0.75, scale='width')\n",
    "    ax.set(ylim=(-1.1, 1.1))\n",
    "    ax.set(xticks=np.arange(0,len(tools_of_interest)))\n",
    "    "
   ]
  },
  {
   "cell_type": "code",
   "execution_count": 174,
   "metadata": {},
   "outputs": [
    {
     "data": {
      "image/png": "[encoded data removed]",
      "text/plain": [
       "<Figure size 432x288 with 1 Axes>"
      ]
     },
     "metadata": {
      "needs_background": "light"
     },
     "output_type": "display_data"
    }
   ],
   "source": [
    "plotSNSForFeature(\"19:G\")"
   ]
  },
  {
   "cell_type": "code",
   "execution_count": null,
   "metadata": {},
   "outputs": [],
   "source": []
  },
  {
   "cell_type": "code",
   "execution_count": null,
   "metadata": {},
   "outputs": [],
   "source": []
  }
 ],
 "metadata": {
  "kernelspec": {
   "display_name": "Python 3",
   "language": "python",
   "name": "python3"
  },
  "language_info": {
   "codemirror_mode": {
    "name": "ipython",
    "version": 3
   },
   "file_extension": ".py",
   "mimetype": "text/x-python",
   "name": "python",
   "nbconvert_exporter": "python",
   "pygments_lexer": "ipython3",
   "version": "3.7.8"
  }
 },
 "nbformat": 4,
 "nbformat_minor": 4
}
