{
 "cells": [
  {
   "cell_type": "markdown",
   "metadata": {},
   "source": [
    "# GC content"
   ]
  },
  {
   "cell_type": "code",
   "execution_count": 1,
   "metadata": {},
   "outputs": [],
   "source": [
    "import pickle\n",
    "import pandas as pd\n",
    "import matplotlib.pyplot as plt\n",
    "import numpy as np"
   ]
  },
  {
   "cell_type": "code",
   "execution_count": 2,
   "metadata": {},
   "outputs": [],
   "source": [
    "# tools which use the dinucleotide positional features \n",
    "tools_of_interest = ['tuscan-classification' ,'tuscan-regression'] #, 'chop-chop-doench'] # , 'wu-crispr']\n",
    "dataset_name = 'doench'"
   ]
  },
  {
   "cell_type": "code",
   "execution_count": 3,
   "metadata": {},
   "outputs": [],
   "source": [
    "gc_name = 'gc' # most tools measure the gc content\n",
    "\n",
    "# wu-crispr has 2 flags\n",
    "gc_low = 'c3_GC_pc_gt_80_sd' # more than 80%\n",
    "gc_high = 'c3_GC_pc_lt_30_sd' # less than 30%"
   ]
  },
  {
   "cell_type": "markdown",
   "metadata": {},
   "source": [
    "## Extract SHAP values for gc by tool and data point"
   ]
  },
  {
   "cell_type": "code",
   "execution_count": 4,
   "metadata": {},
   "outputs": [],
   "source": [
    "# Compute one value per tool-data point\n",
    "\n",
    "data_values_gc = []\n",
    "data_shap_gc = {}\n",
    "for t in tools_of_interest: \n",
    "    pickle_name = \"./pickles/SHAP-\" + str(t) + \"-\" + str(dataset_name)\n",
    "\n",
    "    # load the shap values and dataset values\n",
    "    p = open(pickle_name, \"rb\")\n",
    "    shap_values = pickle.load(p)\n",
    "    dataset = pickle.load(p)\n",
    "    p.close()\n",
    "    \n",
    "    # format a bit the shap values\n",
    "    features = dataset.columns\n",
    "    shap_values = pd.DataFrame(shap_values,columns = features)\n",
    "    dataset = pd.DataFrame(dataset)\n",
    "\n",
    "    # record the data\n",
    "    data_shap_gc['gc'] = dataset[gc_name]\n",
    "    data_shap_gc[t] = shap_values[gc_name]\n",
    "    "
   ]
  },
  {
   "cell_type": "code",
   "execution_count": 5,
   "metadata": {},
   "outputs": [
    {
     "data": {
      "text/html": [
       "<div>\n",
       "<style scoped>\n",
       "    .dataframe tbody tr th:only-of-type {\n",
       "        vertical-align: middle;\n",
       "    }\n",
       "\n",
       "    .dataframe tbody tr th {\n",
       "        vertical-align: top;\n",
       "    }\n",
       "\n",
       "    .dataframe thead th {\n",
       "        text-align: right;\n",
       "    }\n",
       "</style>\n",
       "<table border=\"1\" class=\"dataframe\">\n",
       "  <thead>\n",
       "    <tr style=\"text-align: right;\">\n",
       "      <th></th>\n",
       "      <th>gc</th>\n",
       "      <th>tuscan-classification</th>\n",
       "      <th>tuscan-regression</th>\n",
       "    </tr>\n",
       "  </thead>\n",
       "  <tbody>\n",
       "    <tr>\n",
       "      <th>741</th>\n",
       "      <td>26.67</td>\n",
       "      <td>-0.091237</td>\n",
       "      <td>-0.098992</td>\n",
       "    </tr>\n",
       "    <tr>\n",
       "      <th>457</th>\n",
       "      <td>26.67</td>\n",
       "      <td>-0.156606</td>\n",
       "      <td>-0.076713</td>\n",
       "    </tr>\n",
       "    <tr>\n",
       "      <th>756</th>\n",
       "      <td>30.00</td>\n",
       "      <td>-0.195125</td>\n",
       "      <td>-0.104773</td>\n",
       "    </tr>\n",
       "    <tr>\n",
       "      <th>542</th>\n",
       "      <td>30.00</td>\n",
       "      <td>-0.146342</td>\n",
       "      <td>-0.036527</td>\n",
       "    </tr>\n",
       "    <tr>\n",
       "      <th>434</th>\n",
       "      <td>30.00</td>\n",
       "      <td>-0.096180</td>\n",
       "      <td>-0.073855</td>\n",
       "    </tr>\n",
       "    <tr>\n",
       "      <th>...</th>\n",
       "      <td>...</td>\n",
       "      <td>...</td>\n",
       "      <td>...</td>\n",
       "    </tr>\n",
       "    <tr>\n",
       "      <th>1811</th>\n",
       "      <td>93.33</td>\n",
       "      <td>-0.028611</td>\n",
       "      <td>0.080842</td>\n",
       "    </tr>\n",
       "    <tr>\n",
       "      <th>1680</th>\n",
       "      <td>93.33</td>\n",
       "      <td>-0.150539</td>\n",
       "      <td>0.051528</td>\n",
       "    </tr>\n",
       "    <tr>\n",
       "      <th>1779</th>\n",
       "      <td>93.33</td>\n",
       "      <td>-0.160265</td>\n",
       "      <td>0.055035</td>\n",
       "    </tr>\n",
       "    <tr>\n",
       "      <th>1659</th>\n",
       "      <td>93.33</td>\n",
       "      <td>-0.057059</td>\n",
       "      <td>0.057454</td>\n",
       "    </tr>\n",
       "    <tr>\n",
       "      <th>1681</th>\n",
       "      <td>96.67</td>\n",
       "      <td>-0.085072</td>\n",
       "      <td>0.071537</td>\n",
       "    </tr>\n",
       "  </tbody>\n",
       "</table>\n",
       "<p>1841 rows × 3 columns</p>\n",
       "</div>"
      ],
      "text/plain": [
       "         gc  tuscan-classification  tuscan-regression\n",
       "741   26.67              -0.091237          -0.098992\n",
       "457   26.67              -0.156606          -0.076713\n",
       "756   30.00              -0.195125          -0.104773\n",
       "542   30.00              -0.146342          -0.036527\n",
       "434   30.00              -0.096180          -0.073855\n",
       "...     ...                    ...                ...\n",
       "1811  93.33              -0.028611           0.080842\n",
       "1680  93.33              -0.150539           0.051528\n",
       "1779  93.33              -0.160265           0.055035\n",
       "1659  93.33              -0.057059           0.057454\n",
       "1681  96.67              -0.085072           0.071537\n",
       "\n",
       "[1841 rows x 3 columns]"
      ]
     },
     "execution_count": 5,
     "metadata": {},
     "output_type": "execute_result"
    }
   ],
   "source": [
    "shap_gc_df = pd.DataFrame(data_shap_gc)\n",
    "\n",
    "shap_gc_df = shap_gc_df.sort_values('gc')\n",
    "shap_gc_df"
   ]
  },
  {
   "cell_type": "markdown",
   "metadata": {},
   "source": [
    "## Plotting"
   ]
  },
  {
   "cell_type": "code",
   "execution_count": 6,
   "metadata": {},
   "outputs": [],
   "source": [
    "x1 = shap_gc_df['gc']\n",
    "y1 = shap_gc_df['tuscan-classification']\n",
    "y2 = shap_gc_df['tuscan-regression']"
   ]
  },
  {
   "cell_type": "code",
   "execution_count": 7,
   "metadata": {},
   "outputs": [
    {
     "data": {
      "text/plain": [
       "<matplotlib.legend.Legend at 0x2383b09c908>"
      ]
     },
     "execution_count": 7,
     "metadata": {},
     "output_type": "execute_result"
    },
    {
     "data": {
      "image/png": "[encoded data removed]",
      "text/plain": [
       "<Figure size 576x360 with 1 Axes>"
      ]
     },
     "metadata": {
      "needs_background": "light"
     },
     "output_type": "display_data"
    }
   ],
   "source": [
    "plt.figure(figsize=(8,5))\n",
    "plt.scatter(x1,y1, label='tuscan-classification')\n",
    "plt.scatter(x1,y2, label='tuscan-regression')\n",
    "plt.plot(np.arange(20,81,10),[0]*7, color='black',linestyle='--',linewidth=0.5)\n",
    "plt.xlabel(\"GC content in guide and flanking regions\")\n",
    "plt.ylabel(\"SHAP values\")\n",
    "plt.legend()"
   ]
  },
  {
   "cell_type": "markdown",
   "metadata": {},
   "source": [
    "## Attempt to see gc in chop chop doench and wu-crispr"
   ]
  },
  {
   "cell_type": "code",
   "execution_count": 8,
   "metadata": {},
   "outputs": [],
   "source": [
    "tools = ['chop-chop-doench','wu-crispr']\n",
    "data_shap_gc = {}"
   ]
  },
  {
   "cell_type": "code",
   "execution_count": 9,
   "metadata": {},
   "outputs": [],
   "source": [
    "for t in tools:\n",
    "    pickle_name = \"./pickles/SHAP-\" + t + \"-\" + str(dataset_name)\n",
    "\n",
    "    # load the shap values and dataset values\n",
    "    p = open(pickle_name, \"rb\")\n",
    "    shap_values = pickle.load(p)\n",
    "    dataset = pickle.load(p)\n",
    "    p.close()\n",
    "    \n",
    "    # format a bit the shap values\n",
    "    features = dataset.columns\n",
    "    shap_values = pd.DataFrame(shap_values,columns = features)\n",
    "    dataset = pd.DataFrame(dataset)\n",
    "\n",
    "    # record the data\n",
    "    if 'gc' in features:\n",
    "        data_shap_gc['gc'] = dataset[gc_name] / 20 * 100\n",
    "        data_shap_gc[t] = shap_values[gc_name]\n",
    "        \n",
    "    else: \n",
    "        sh = []\n",
    "        \n",
    "        for d in range(0, len(dataset[gc_low])):\n",
    "            if dataset[gc_low][d] == 1: \n",
    "                sh.append(shap_values[gc_low][d])\n",
    "            elif dataset[gc_high][d] == 1:\n",
    "                sh.append(shap_values[gc_high][d])\n",
    "            else:\n",
    "                sh.append(0)\n",
    "        \n",
    "        data_shap_gc[t] = sh\n",
    "    "
   ]
  },
  {
   "cell_type": "code",
   "execution_count": 10,
   "metadata": {},
   "outputs": [
    {
     "data": {
      "text/html": [
       "<div>\n",
       "<style scoped>\n",
       "    .dataframe tbody tr th:only-of-type {\n",
       "        vertical-align: middle;\n",
       "    }\n",
       "\n",
       "    .dataframe tbody tr th {\n",
       "        vertical-align: top;\n",
       "    }\n",
       "\n",
       "    .dataframe thead th {\n",
       "        text-align: right;\n",
       "    }\n",
       "</style>\n",
       "<table border=\"1\" class=\"dataframe\">\n",
       "  <thead>\n",
       "    <tr style=\"text-align: right;\">\n",
       "      <th></th>\n",
       "      <th>gc</th>\n",
       "      <th>chop-chop-doench</th>\n",
       "      <th>wu-crispr</th>\n",
       "    </tr>\n",
       "  </thead>\n",
       "  <tbody>\n",
       "    <tr>\n",
       "      <th>500</th>\n",
       "      <td>20.0</td>\n",
       "      <td>-0.866835</td>\n",
       "      <td>-0.014463</td>\n",
       "    </tr>\n",
       "    <tr>\n",
       "      <th>683</th>\n",
       "      <td>25.0</td>\n",
       "      <td>-0.664209</td>\n",
       "      <td>-0.006616</td>\n",
       "    </tr>\n",
       "    <tr>\n",
       "      <th>985</th>\n",
       "      <td>25.0</td>\n",
       "      <td>-0.664209</td>\n",
       "      <td>-0.016973</td>\n",
       "    </tr>\n",
       "    <tr>\n",
       "      <th>551</th>\n",
       "      <td>25.0</td>\n",
       "      <td>-0.664209</td>\n",
       "      <td>-0.011077</td>\n",
       "    </tr>\n",
       "    <tr>\n",
       "      <th>510</th>\n",
       "      <td>25.0</td>\n",
       "      <td>-0.664209</td>\n",
       "      <td>-0.015533</td>\n",
       "    </tr>\n",
       "    <tr>\n",
       "      <th>...</th>\n",
       "      <td>...</td>\n",
       "      <td>...</td>\n",
       "      <td>...</td>\n",
       "    </tr>\n",
       "    <tr>\n",
       "      <th>1652</th>\n",
       "      <td>95.0</td>\n",
       "      <td>-1.151278</td>\n",
       "      <td>-0.009912</td>\n",
       "    </tr>\n",
       "    <tr>\n",
       "      <th>1668</th>\n",
       "      <td>95.0</td>\n",
       "      <td>-1.150369</td>\n",
       "      <td>-0.006001</td>\n",
       "    </tr>\n",
       "    <tr>\n",
       "      <th>1743</th>\n",
       "      <td>100.0</td>\n",
       "      <td>-1.316957</td>\n",
       "      <td>-0.010081</td>\n",
       "    </tr>\n",
       "    <tr>\n",
       "      <th>1681</th>\n",
       "      <td>100.0</td>\n",
       "      <td>-1.316957</td>\n",
       "      <td>-0.009829</td>\n",
       "    </tr>\n",
       "    <tr>\n",
       "      <th>1680</th>\n",
       "      <td>100.0</td>\n",
       "      <td>-1.315934</td>\n",
       "      <td>-0.008483</td>\n",
       "    </tr>\n",
       "  </tbody>\n",
       "</table>\n",
       "<p>1841 rows × 3 columns</p>\n",
       "</div>"
      ],
      "text/plain": [
       "         gc  chop-chop-doench  wu-crispr\n",
       "500    20.0         -0.866835  -0.014463\n",
       "683    25.0         -0.664209  -0.006616\n",
       "985    25.0         -0.664209  -0.016973\n",
       "551    25.0         -0.664209  -0.011077\n",
       "510    25.0         -0.664209  -0.015533\n",
       "...     ...               ...        ...\n",
       "1652   95.0         -1.151278  -0.009912\n",
       "1668   95.0         -1.150369  -0.006001\n",
       "1743  100.0         -1.316957  -0.010081\n",
       "1681  100.0         -1.316957  -0.009829\n",
       "1680  100.0         -1.315934  -0.008483\n",
       "\n",
       "[1841 rows x 3 columns]"
      ]
     },
     "execution_count": 10,
     "metadata": {},
     "output_type": "execute_result"
    }
   ],
   "source": [
    "shap_gc_df = pd.DataFrame(data_shap_gc)\n",
    "\n",
    "shap_gc_df = shap_gc_df.sort_values('gc')\n",
    "shap_gc_df"
   ]
  },
  {
   "cell_type": "markdown",
   "metadata": {},
   "source": [
    "### Scale the SHAP values by tool"
   ]
  },
  {
   "cell_type": "code",
   "execution_count": 11,
   "metadata": {},
   "outputs": [],
   "source": [
    "df = shap_gc_df"
   ]
  },
  {
   "cell_type": "code",
   "execution_count": 12,
   "metadata": {},
   "outputs": [],
   "source": [
    "def scaleCol(df, col):\n",
    "    max_val = df[col].max()\n",
    "    min_val = df[col].min()\n",
    "    \n",
    "    max_abs = abs(max_val)\n",
    "    if abs(min_val) > max_abs:\n",
    "        max_abs = abs(min_val)\n",
    "        \n",
    "    df[col] /= max_abs"
   ]
  },
  {
   "cell_type": "code",
   "execution_count": 13,
   "metadata": {},
   "outputs": [],
   "source": [
    "scaleCol(df,'wu-crispr')\n",
    "scaleCol(df,'chop-chop-doench')"
   ]
  },
  {
   "cell_type": "code",
   "execution_count": 14,
   "metadata": {},
   "outputs": [
    {
     "data": {
      "text/html": [
       "<div>\n",
       "<style scoped>\n",
       "    .dataframe tbody tr th:only-of-type {\n",
       "        vertical-align: middle;\n",
       "    }\n",
       "\n",
       "    .dataframe tbody tr th {\n",
       "        vertical-align: top;\n",
       "    }\n",
       "\n",
       "    .dataframe thead th {\n",
       "        text-align: right;\n",
       "    }\n",
       "</style>\n",
       "<table border=\"1\" class=\"dataframe\">\n",
       "  <thead>\n",
       "    <tr style=\"text-align: right;\">\n",
       "      <th></th>\n",
       "      <th>gc</th>\n",
       "      <th>chop-chop-doench</th>\n",
       "      <th>wu-crispr</th>\n",
       "    </tr>\n",
       "  </thead>\n",
       "  <tbody>\n",
       "    <tr>\n",
       "      <th>500</th>\n",
       "      <td>20.0</td>\n",
       "      <td>-0.658210</td>\n",
       "      <td>-0.794368</td>\n",
       "    </tr>\n",
       "    <tr>\n",
       "      <th>683</th>\n",
       "      <td>25.0</td>\n",
       "      <td>-0.504351</td>\n",
       "      <td>-0.363343</td>\n",
       "    </tr>\n",
       "    <tr>\n",
       "      <th>985</th>\n",
       "      <td>25.0</td>\n",
       "      <td>-0.504351</td>\n",
       "      <td>-0.932184</td>\n",
       "    </tr>\n",
       "    <tr>\n",
       "      <th>551</th>\n",
       "      <td>25.0</td>\n",
       "      <td>-0.504351</td>\n",
       "      <td>-0.608396</td>\n",
       "    </tr>\n",
       "    <tr>\n",
       "      <th>510</th>\n",
       "      <td>25.0</td>\n",
       "      <td>-0.504351</td>\n",
       "      <td>-0.853121</td>\n",
       "    </tr>\n",
       "    <tr>\n",
       "      <th>...</th>\n",
       "      <td>...</td>\n",
       "      <td>...</td>\n",
       "      <td>...</td>\n",
       "    </tr>\n",
       "    <tr>\n",
       "      <th>1652</th>\n",
       "      <td>95.0</td>\n",
       "      <td>-0.874195</td>\n",
       "      <td>-0.544367</td>\n",
       "    </tr>\n",
       "    <tr>\n",
       "      <th>1668</th>\n",
       "      <td>95.0</td>\n",
       "      <td>-0.873506</td>\n",
       "      <td>-0.329567</td>\n",
       "    </tr>\n",
       "    <tr>\n",
       "      <th>1743</th>\n",
       "      <td>100.0</td>\n",
       "      <td>-1.000000</td>\n",
       "      <td>-0.553652</td>\n",
       "    </tr>\n",
       "    <tr>\n",
       "      <th>1681</th>\n",
       "      <td>100.0</td>\n",
       "      <td>-1.000000</td>\n",
       "      <td>-0.539828</td>\n",
       "    </tr>\n",
       "    <tr>\n",
       "      <th>1680</th>\n",
       "      <td>100.0</td>\n",
       "      <td>-0.999223</td>\n",
       "      <td>-0.465935</td>\n",
       "    </tr>\n",
       "  </tbody>\n",
       "</table>\n",
       "<p>1841 rows × 3 columns</p>\n",
       "</div>"
      ],
      "text/plain": [
       "         gc  chop-chop-doench  wu-crispr\n",
       "500    20.0         -0.658210  -0.794368\n",
       "683    25.0         -0.504351  -0.363343\n",
       "985    25.0         -0.504351  -0.932184\n",
       "551    25.0         -0.504351  -0.608396\n",
       "510    25.0         -0.504351  -0.853121\n",
       "...     ...               ...        ...\n",
       "1652   95.0         -0.874195  -0.544367\n",
       "1668   95.0         -0.873506  -0.329567\n",
       "1743  100.0         -1.000000  -0.553652\n",
       "1681  100.0         -1.000000  -0.539828\n",
       "1680  100.0         -0.999223  -0.465935\n",
       "\n",
       "[1841 rows x 3 columns]"
      ]
     },
     "execution_count": 14,
     "metadata": {},
     "output_type": "execute_result"
    }
   ],
   "source": [
    "df"
   ]
  },
  {
   "cell_type": "code",
   "execution_count": 15,
   "metadata": {},
   "outputs": [],
   "source": [
    "x2 = df['gc']\n",
    "y3 = df['chop-chop-doench']\n",
    "y4 = df['wu-crispr']"
   ]
  },
  {
   "cell_type": "code",
   "execution_count": 16,
   "metadata": {},
   "outputs": [
    {
     "data": {
      "text/plain": [
       "<matplotlib.legend.Legend at 0x2383b18fd88>"
      ]
     },
     "execution_count": 16,
     "metadata": {},
     "output_type": "execute_result"
    },
    {
     "data": {
      "image/png": "[encoded data removed]",
      "text/plain": [
       "<Figure size 576x360 with 1 Axes>"
      ]
     },
     "metadata": {
      "needs_background": "light"
     },
     "output_type": "display_data"
    }
   ],
   "source": [
    "plt.figure(figsize=(8,5))\n",
    "plt.scatter(x2, y3, label='chop-chop-doench')\n",
    "plt.scatter(x2, y4, label='wu-crispr')\n",
    "plt.plot(np.arange(0,101,10),[0]*11, color='black',linestyle='--',linewidth=0.5)\n",
    "plt.xlabel(\"GC content of guide\")\n",
    "plt.ylabel(\"SHAP values\")\n",
    "plt.legend()"
   ]
  },
  {
   "cell_type": "markdown",
   "metadata": {},
   "source": [
    "## Put plots side by side"
   ]
  },
  {
   "cell_type": "code",
   "execution_count": 19,
   "metadata": {},
   "outputs": [
    {
     "data": {
      "image/png": "[encoded data removed]",
      "text/plain": [
       "<Figure size 1440x360 with 2 Axes>"
      ]
     },
     "metadata": {
      "needs_background": "light"
     },
     "output_type": "display_data"
    }
   ],
   "source": [
    "fig = plt.figure(figsize=(20,5))\n",
    "fig.suptitle(\"GC content preference for efficient gRNA\", fontsize=14)\n",
    "\n",
    "ax1 = plt.subplot(121)\n",
    "plt.scatter(x1,y1, label='tuscan-classification', color='tab:red')\n",
    "plt.scatter(x1,y2, label='tuscan-regression', color='tab:cyan')\n",
    "plt.plot(np.arange(20,101,10),[0]*9, color='black',linestyle='--',linewidth=0.5)\n",
    "plt.xlabel(\"GC content in guide and flanking regions\")\n",
    "plt.ylabel(\"SHAP values\")\n",
    "plt.legend()\n",
    "\n",
    "ax2 = plt.subplot(122)\n",
    "plt.scatter(x2, y3, label='chop-chop-doench', color='tab:olive')\n",
    "plt.plot(x2,y3, color='tab:olive')\n",
    "plt.scatter(x2, y4, label='wu-crispr', color='tab:purple')\n",
    "plt.plot(x2, y4, color='tab:purple')\n",
    "plt.plot(np.arange(0,101,10),[0]*11, color='black',linestyle='--',linewidth=0.5)\n",
    "plt.xlabel(\"GC content in guide\")\n",
    "plt.ylabel(\"SHAP values\")\n",
    "plt.legend()\n",
    "\n",
    "\n",
    "plt.savefig('./GCcontentDo.png')\n",
    "plt.show()\n"
   ]
  },
  {
   "cell_type": "code",
   "execution_count": null,
   "metadata": {},
   "outputs": [],
   "source": []
  }
 ],
 "metadata": {
  "kernelspec": {
   "display_name": "Python 3",
   "language": "python",
   "name": "python3"
  },
  "language_info": {
   "codemirror_mode": {
    "name": "ipython",
    "version": 3
   },
   "file_extension": ".py",
   "mimetype": "text/x-python",
   "name": "python",
   "nbconvert_exporter": "python",
   "pygments_lexer": "ipython3",
   "version": "3.7.8"
  }
 },
 "nbformat": 4,
 "nbformat_minor": 4
}
